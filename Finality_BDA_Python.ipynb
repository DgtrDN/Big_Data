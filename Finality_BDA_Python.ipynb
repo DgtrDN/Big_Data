{
 "cells": [
  {
   "cell_type": "code",
   "execution_count": 31,
   "id": "808b46cf",
   "metadata": {},
   "outputs": [],
   "source": [
    "#1\n",
    "import pandas as pd\n",
    "\n",
    "ratings = pd.read_csv(\"D:/Video/Нетология/Data_Science/Аналитика больших данных/Итоговая работа/ml-100k/u.data.csv\", sep='\\t', header=None, names=['user_id', 'item_id', 'rating', 'timestamp'])\n",
    "movies = pd.read_csv(\"D:/Video/Нетология/Data_Science/Аналитика больших данных/Итоговая работа/ml-100k/u.item.csv\", sep='|', header=None, names=['movie_id', 'movie_title', 'release_date', 'video_release', 'IMDb_URL', 'unknown', 'Action', 'Adventure', 'Animation', 'Childrens', 'Comedy', 'Crime', 'Documentary', 'Drama', 'Fantasy', 'Film_Noir', 'Horror', 'Musical', 'Mystery', 'Romance', 'Sci_Fi', 'Thriller', 'War', 'Western'], encoding='latin-1')"
   ]
  },
  {
   "cell_type": "code",
   "execution_count": 2,
   "id": "d94dfeb0",
   "metadata": {},
   "outputs": [
    {
     "data": {
      "text/html": [
       "<div>\n",
       "<style scoped>\n",
       "    .dataframe tbody tr th:only-of-type {\n",
       "        vertical-align: middle;\n",
       "    }\n",
       "\n",
       "    .dataframe tbody tr th {\n",
       "        vertical-align: top;\n",
       "    }\n",
       "\n",
       "    .dataframe thead th {\n",
       "        text-align: right;\n",
       "    }\n",
       "</style>\n",
       "<table border=\"1\" class=\"dataframe\">\n",
       "  <thead>\n",
       "    <tr style=\"text-align: right;\">\n",
       "      <th></th>\n",
       "      <th>user_id</th>\n",
       "      <th>item_id</th>\n",
       "      <th>rating</th>\n",
       "      <th>timestamp</th>\n",
       "    </tr>\n",
       "  </thead>\n",
       "  <tbody>\n",
       "    <tr>\n",
       "      <th>0</th>\n",
       "      <td>405</td>\n",
       "      <td>737</td>\n",
       "      <td>737</td>\n",
       "      <td>737</td>\n",
       "    </tr>\n",
       "  </tbody>\n",
       "</table>\n",
       "</div>"
      ],
      "text/plain": [
       "   user_id  item_id  rating  timestamp\n",
       "0      405      737     737        737"
      ]
     },
     "execution_count": 2,
     "metadata": {},
     "output_type": "execute_result"
    }
   ],
   "source": [
    "#2\n",
    "ratings.groupby('user_id').count().sort_values(by=['item_id'], ascending=False).reset_index().head(1)"
   ]
  },
  {
   "cell_type": "code",
   "execution_count": 3,
   "id": "3fa506e3",
   "metadata": {},
   "outputs": [],
   "source": [
    "#3\n",
    "ratings_user_one = ratings.loc[ratings['user_id']==405]"
   ]
  },
  {
   "cell_type": "code",
   "execution_count": 6,
   "id": "c5fb9437",
   "metadata": {},
   "outputs": [],
   "source": [
    "#4\n",
    "ratings_movies = ratings.merge(movies, left_on='item_id', right_on='movie_id')"
   ]
  },
  {
   "cell_type": "code",
   "execution_count": 9,
   "id": "db7dac5a",
   "metadata": {},
   "outputs": [],
   "source": [
    "#5\n",
    "from sklearn. model_selection import train_test_split\n",
    "X = ratings_movies[['user_id', 'item_id', 'timestamp', 'movie_id', 'unknown', 'Action',\n",
    "       'Adventure', 'Animation', 'Childrens', 'Comedy', 'Crime', 'Documentary',\n",
    "       'Drama', 'Fantasy', 'Film_Noir', 'Horror', 'Musical', 'Mystery',\n",
    "       'Romance', 'Sci_Fi', 'Thriller', 'War', 'Western']]\n",
    "y = ratings_movies['rating']\n",
    "\n",
    "X_train, X_test, y_train, y_test = train_test_split(X, y, test_size= 0.2 , random_state= 0)"
   ]
  },
  {
   "cell_type": "code",
   "execution_count": 20,
   "id": "d6022c77",
   "metadata": {},
   "outputs": [
    {
     "data": {
      "text/plain": [
       "0.06604259283379443"
      ]
     },
     "execution_count": 20,
     "metadata": {},
     "output_type": "execute_result"
    }
   ],
   "source": [
    "#6\n",
    "from sklearn.discriminant_analysis import LinearDiscriminantAnalysis\n",
    "\n",
    "lda = LinearDiscriminantAnalysis()\n",
    "lda.fit(X_train, y_train)\n",
    "model.score(X_test, y_test)"
   ]
  },
  {
   "cell_type": "code",
   "execution_count": 21,
   "id": "8b805ab6",
   "metadata": {},
   "outputs": [
    {
     "data": {
      "text/plain": [
       "0.3545"
      ]
     },
     "execution_count": 21,
     "metadata": {},
     "output_type": "execute_result"
    }
   ],
   "source": [
    "#7\n",
    "from sklearn.metrics import accuracy_score\n",
    "accuracy_score(y_test, lda.predict(X_test))"
   ]
  },
  {
   "cell_type": "code",
   "execution_count": 36,
   "id": "9187aeb6",
   "metadata": {},
   "outputs": [],
   "source": [
    "#8\n",
    "import findspark\n",
    "findspark.init()\n",
    "from pyspark.sql import SparkSession\n",
    "\n",
    "spark = SparkSession.builder.master(\"local[*]\").getOrCreate()\n",
    "\n",
    "ratings_spark = spark.read.csv(\"D:/Video/Нетология/Data_Science/Аналитика больших данных/Итоговая работа/ml-100k/u.data.csv\", sep='\\t', header=None, inferSchema=True)\n",
    "movies_spark = spark.read.csv(\"D:/Video/Нетология/Data_Science/Аналитика больших данных/Итоговая работа/ml-100k/u.item.csv\", sep='|', header=None, inferSchema=True)\n",
    "\n",
    "ratings_spark = ratings_spark.withColumnRenamed('_c0', 'user_id').withColumnRenamed('_c1', 'item_id').withColumnRenamed('_c2', 'rating').withColumnRenamed('_c3', 'timestamp')\n",
    "movies_spark = movies_spark.withColumnRenamed('_c0', 'movie_id').withColumnRenamed('_c1', 'movie_title').withColumnRenamed('_c2', 'release_date').withColumnRenamed('_c3', 'video_release')\\\n",
    "    .withColumnRenamed('_c4', 'IMDb_URL').withColumnRenamed('_c5', 'unknown').withColumnRenamed('_c6', 'Action').withColumnRenamed('_c7', 'Adventure')\\\n",
    "    .withColumnRenamed('_c8', 'Animation').withColumnRenamed('_c9', 'Childrens').withColumnRenamed('_c10', 'Comedy').withColumnRenamed('_c11', 'Crime')\\\n",
    "    .withColumnRenamed('_c12', 'Documentary').withColumnRenamed('_c13', 'Drama').withColumnRenamed('_c14', 'Fantasy').withColumnRenamed('_c15', 'Film_Noir')\\\n",
    "    .withColumnRenamed('_c16', 'Horror').withColumnRenamed('_c17', 'Musical').withColumnRenamed('_c18', 'Mystery').withColumnRenamed('_c19', 'Romance')\\\n",
    "    .withColumnRenamed('_c20', 'Sci_Fi').withColumnRenamed('_c21', 'Thriller').withColumnRenamed('_c22', 'War').withColumnRenamed('_c23', 'Western')"
   ]
  },
  {
   "cell_type": "code",
   "execution_count": 76,
   "id": "109b9855",
   "metadata": {},
   "outputs": [
    {
     "name": "stdout",
     "output_type": "stream",
     "text": [
      "+--------------------+------------------+\n",
      "|         movie_title|       avg(rating)|\n",
      "+--------------------+------------------+\n",
      "|It's a Wonderful ...| 4.121212121212121|\n",
      "|Courage Under Fir...|3.6108597285067874|\n",
      "|Secret of Roan In...| 3.859154929577465|\n",
      "|Ghost and the Dar...|          3.203125|\n",
      "|Convent, The (Con...|               2.5|\n",
      "|  Bulletproof (1996)| 3.204081632653061|\n",
      "|  Double Team (1997)| 2.230769230769231|\n",
      "|Duoluo tianshi (1...|3.1666666666666665|\n",
      "|   Full Speed (1996)|             3.125|\n",
      "|     Liebelei (1933)|               1.0|\n",
      "|Butcher Boy, The ...|               4.0|\n",
      "|Man Without a Fac...|3.5441176470588234|\n",
      "|Angels in the Out...| 2.923076923076923|\n",
      "|  Money Train (1995)| 2.511627906976744|\n",
      "|Amityville: Dollh...|               1.0|\n",
      "|       Sirens (1994)| 2.983050847457627|\n",
      "|Jungle2Jungle (1997)|2.4393939393939394|\n",
      "|Fire Down Below (...|2.9318181818181817|\n",
      "|Anne Frank Rememb...| 3.857142857142857|\n",
      "|Truman Show, The ...| 2.909090909090909|\n",
      "+--------------------+------------------+\n",
      "only showing top 20 rows\n",
      "\n"
     ]
    }
   ],
   "source": [
    "#9\n",
    "ratings_spark_avg = ratings_spark.groupBy('item_id').avg('rating')\n",
    "\n",
    "ratings_movies_spark_avg = ratings_spark_avg.join(movies_spark, ratings_spark_avg.item_id == movies_spark.movie_id, how='inner')\n",
    "ratings_movies_spark_avg['movie_title', 'avg(rating)'].show()"
   ]
  },
  {
   "cell_type": "code",
   "execution_count": 102,
   "id": "f1658e66",
   "metadata": {},
   "outputs": [
    {
     "name": "stdout",
     "output_type": "stream",
     "text": [
      "+------------------+\n",
      "|avg_rating_unknown|\n",
      "+------------------+\n",
      "|               3.2|\n",
      "+------------------+\n",
      "\n",
      "+-----------------+\n",
      "|avg_rating_Action|\n",
      "+-----------------+\n",
      "|3.480245417953027|\n",
      "+-----------------+\n",
      "\n",
      "+--------------------+\n",
      "|avg_rating_Adventure|\n",
      "+--------------------+\n",
      "|   3.503526503308369|\n",
      "+--------------------+\n",
      "\n",
      "+--------------------+\n",
      "|avg_rating_Animation|\n",
      "+--------------------+\n",
      "|  3.5766990291262135|\n",
      "+--------------------+\n",
      "\n",
      "+--------------------+\n",
      "|avg_rating_Childrens|\n",
      "+--------------------+\n",
      "|  3.3532442216652742|\n",
      "+--------------------+\n",
      "\n",
      "+------------------+\n",
      "| avg_rating_Comedy|\n",
      "+------------------+\n",
      "|3.3940734781442745|\n",
      "+------------------+\n",
      "\n",
      "+------------------+\n",
      "|  avg_rating_Crime|\n",
      "+------------------+\n",
      "|3.6322780881440098|\n",
      "+------------------+\n",
      "\n",
      "+----------------------+\n",
      "|avg_rating_Documentary|\n",
      "+----------------------+\n",
      "|    3.6728232189973613|\n",
      "+----------------------+\n",
      "\n",
      "+------------------+\n",
      "|  avg_rating_Drama|\n",
      "+------------------+\n",
      "|3.6873793708484772|\n",
      "+------------------+\n",
      "\n",
      "+------------------+\n",
      "|avg_rating_Fantasy|\n",
      "+------------------+\n",
      "|3.2152366863905324|\n",
      "+------------------+\n",
      "\n",
      "+--------------------+\n",
      "|avg_rating_Film_Noir|\n",
      "+--------------------+\n",
      "|  3.9215233698788228|\n",
      "+--------------------+\n",
      "\n",
      "+------------------+\n",
      "| avg_rating_Horror|\n",
      "+------------------+\n",
      "|3.2903893172841827|\n",
      "+------------------+\n",
      "\n",
      "+------------------+\n",
      "|avg_rating_Musical|\n",
      "+------------------+\n",
      "| 3.521396851029471|\n",
      "+------------------+\n",
      "\n",
      "+------------------+\n",
      "|avg_rating_Mystery|\n",
      "+------------------+\n",
      "|  3.63813155386082|\n",
      "+------------------+\n",
      "\n",
      "+------------------+\n",
      "|avg_rating_Romance|\n",
      "+------------------+\n",
      "| 3.621704948358255|\n",
      "+------------------+\n",
      "\n",
      "+------------------+\n",
      "| avg_rating_Sci_Fi|\n",
      "+------------------+\n",
      "|3.5607227022780834|\n",
      "+------------------+\n",
      "\n",
      "+-------------------+\n",
      "|avg_rating_Thriller|\n",
      "+-------------------+\n",
      "| 3.5090069495245064|\n",
      "+-------------------+\n",
      "\n",
      "+-----------------+\n",
      "|   avg_rating_War|\n",
      "+-----------------+\n",
      "|3.815811874866993|\n",
      "+-----------------+\n",
      "\n",
      "+------------------+\n",
      "|avg_rating_Western|\n",
      "+------------------+\n",
      "|3.6132686084142396|\n",
      "+------------------+\n",
      "\n"
     ]
    }
   ],
   "source": [
    "#10 среднюю оценку для каждого жанра\n",
    "mr = movies_spark.join(ratings_spark, ratings_spark.item_id == movies_spark.movie_id, how='inner')\n",
    "mr = mr['movie_title', 'rating', 'unknown', 'Action', 'Adventure', 'Animation', 'Childrens', 'Comedy', 'Crime', 'Documentary', 'Drama', 'Fantasy', 'Film_Noir', 'Horror', 'Musical', 'Mystery', 'Romance', 'Sci_Fi', 'Thriller', 'War', 'Western']\n",
    "# mr.where(mr['Action'] == 1).show()\n",
    "\n",
    "mr.createOrReplaceTempView('m_r')\n",
    "spark.sql('SELECT avg(rating) as avg_rating_unknown FROM m_r where unknown = 1').show()\n",
    "spark.sql('SELECT avg(rating) as avg_rating_Action FROM m_r where Action = 1').show()\n",
    "spark.sql('SELECT avg(rating) as avg_rating_Adventure FROM m_r where Adventure = 1').show()\n",
    "spark.sql('SELECT avg(rating) as avg_rating_Animation FROM m_r where Animation = 1').show()\n",
    "spark.sql('SELECT avg(rating) as avg_rating_Childrens FROM m_r where Childrens = 1').show()\n",
    "spark.sql('SELECT avg(rating) as avg_rating_Comedy FROM m_r where Comedy = 1').show()\n",
    "spark.sql('SELECT avg(rating) as avg_rating_Crime FROM m_r where Crime = 1').show()\n",
    "spark.sql('SELECT avg(rating) as avg_rating_Documentary FROM m_r where Documentary = 1').show()\n",
    "spark.sql('SELECT avg(rating) as avg_rating_Drama FROM m_r where Drama = 1').show()\n",
    "spark.sql('SELECT avg(rating) as avg_rating_Fantasy FROM m_r where Fantasy = 1').show()\n",
    "spark.sql('SELECT avg(rating) as avg_rating_Film_Noir FROM m_r where Film_Noir = 1').show()\n",
    "spark.sql('SELECT avg(rating) as avg_rating_Horror FROM m_r where Horror = 1').show()\n",
    "spark.sql('SELECT avg(rating) as avg_rating_Musical FROM m_r where Musical = 1').show()\n",
    "spark.sql('SELECT avg(rating) as avg_rating_Mystery FROM m_r where Mystery = 1').show()\n",
    "spark.sql('SELECT avg(rating) as avg_rating_Romance FROM m_r where Romance = 1').show()\n",
    "spark.sql('SELECT avg(rating) as avg_rating_Sci_Fi FROM m_r where Sci_Fi = 1').show()\n",
    "spark.sql('SELECT avg(rating) as avg_rating_Thriller FROM m_r where Thriller = 1').show()\n",
    "spark.sql('SELECT avg(rating) as avg_rating_War FROM m_r where War = 1').show()\n",
    "spark.sql('SELECT avg(rating) as avg_rating_Western FROM m_r where Western = 1').show()\n"
   ]
  },
  {
   "cell_type": "code",
   "execution_count": 69,
   "id": "5feb5d61",
   "metadata": {},
   "outputs": [
    {
     "name": "stdout",
     "output_type": "stream",
     "text": [
      "+-------+-----------+\n",
      "|item_id|sum(rating)|\n",
      "+-------+-----------+\n",
      "|     50|       2541|\n",
      "|    100|       2111|\n",
      "|    181|       2032|\n",
      "|    258|       1936|\n",
      "|    174|       1786|\n",
      "+-------+-----------+\n",
      "only showing top 5 rows\n",
      "\n",
      "+-------+-----------+\n",
      "|item_id|sum(rating)|\n",
      "+-------+-----------+\n",
      "|    830|          1|\n",
      "|   1339|          1|\n",
      "|   1493|          1|\n",
      "|   1621|          1|\n",
      "|   1618|          1|\n",
      "+-------+-----------+\n",
      "only showing top 5 rows\n",
      "\n"
     ]
    }
   ],
   "source": [
    "#11\n",
    "ratings_spark_max_5 = ratings_spark.groupBy('item_id').sum('rating')\n",
    "ratings_spark_max_5 = ratings_spark_max_5.orderBy('sum(rating)', ascending=False)\n",
    "ratings_spark_max_5.show(5)\n",
    "\n",
    "ratings_spark_max_5 = ratings_spark.groupBy('item_id').sum('rating')\n",
    "ratings_spark_min_5 = ratings_spark_max_5.orderBy('sum(rating)', ascending=True)\n",
    "ratings_spark_min_5.show(5)"
   ]
  }
 ],
 "metadata": {
  "kernelspec": {
   "display_name": "Python 3 (ipykernel)",
   "language": "python",
   "name": "python3"
  },
  "language_info": {
   "codemirror_mode": {
    "name": "ipython",
    "version": 3
   },
   "file_extension": ".py",
   "mimetype": "text/x-python",
   "name": "python",
   "nbconvert_exporter": "python",
   "pygments_lexer": "ipython3",
   "version": "3.10.9"
  }
 },
 "nbformat": 4,
 "nbformat_minor": 5
}
